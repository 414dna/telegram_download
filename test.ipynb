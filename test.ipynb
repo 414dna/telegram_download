{
 "cells": [
  {
   "cell_type": "code",
   "execution_count": 5,
   "metadata": {},
   "outputs": [
    {
     "name": "stdout",
     "output_type": "stream",
     "text": [
      "Signed in successfully as R Dhilip\n"
     ]
    }
   ],
   "source": [
    "from telethon import TelegramClient,types\n",
    "\n",
    "api_id=",
    "api_hash='",
    "client = TelegramClient('media_download4', api_id, api_hash)\n",
    "await client.connect()\n",
    "d= await client.start(phone=,passwordn",
    "\n",
    "\n",
    "\n",
    "\n"
   ]
  },
  {
   "cell_type": "code",
   "execution_count": 20,
   "metadata": {},
   "outputs": [
    {
     "ename": "NameError",
     "evalue": "name 'client' is not defined",
     "output_type": "error",
     "traceback": [
      "\u001b[1;31m---------------------------------------------------------------------------\u001b[0m",
      "\u001b[1;31mNameError\u001b[0m                                 Traceback (most recent call last)",
      "\u001b[1;32mC:\\Users\\DHILIP~1\\AppData\\Local\\Temp/ipykernel_8936/2605810960.py\u001b[0m in \u001b[0;36masync-def-wrapper\u001b[1;34m()\u001b[0m\n\u001b[0;32m      2\u001b[0m \u001b[1;33m\u001b[0m\u001b[0m\n\u001b[0;32m      3\u001b[0m \u001b[1;33m\u001b[0m\u001b[0m\n",
      "\u001b[1;31mNameError\u001b[0m: name 'client' is not defined"
     ]
    }
   ],
   "source": [
    "\n",
    "await client.log_out()\n",
    "\n",
    "\n"
   ]
  },
  {
   "cell_type": "code",
   "execution_count": 12,
   "metadata": {},
   "outputs": [],
   "source": [
    "j=await client.get_me()"
   ]
  },
  {
   "cell_type": "code",
   "execution_count": 18,
   "metadata": {},
   "outputs": [
    {
     "data": {
      "text/plain": [
       "-297889818252408522"
      ]
     },
     "execution_count": 18,
     "metadata": {},
     "output_type": "execute_result"
    }
   ],
   "source": [
    "j.access_hash"
   ]
  },
  {
   "cell_type": "code",
   "execution_count": 32,
   "metadata": {},
   "outputs": [
    {
     "name": "stdout",
     "output_type": "stream",
     "text": [
      "{'_': 'MessageMediaDocument', 'nopremium': False, 'document': {'_': 'Document', 'id': 6314540882280318820, 'access_hash': -5861049710368647403, 'file_reference': b'\\x03\\x00\\x00\\x00\\x81cs\\xf4\\x07?\\x80\\xb8u\\xd8\\xb7\\xab\\xf1\\xb6\\x0c\\xa8WhQ\\xa9\\xc6', 'date': datetime.datetime(2022, 11, 15, 20, 14, 11, tzinfo=datetime.timezone.utc), 'mime_type': 'application/pdf', 'size': 822220, 'dc_id': 5, 'attributes': [{'_': 'DocumentAttributeFilename', 'file_name': 'Vennila Raghuraman Invitation.pdf'}], 'thumbs': [{'_': 'PhotoStrippedSize', 'type': 'i', 'bytes': b'\\x01(\\x1c\\xd5\\x0f\\xc8\\x07\\xad9\\x9dW\\x1b\\x88\\x19\\xa8\\xf6\\x0c\\x83\\xcd+\\xa2\\xc80\\xdf\\xa5!\\x8f\\x0e\\xa7\\xa3\\x03A\\xdd\\xd8\\x8a`\\x89A\\x07-\\xc7\\xbdKLDy\\xa6\\x8c\\x8fZas\\xbb\\x1c~&\\x9e\\x0eh\\x01\\xe0\\x9ap\\xa8\\x8c\\x8a\\xac\\x01\\xeajD`\\xca\\x08\\xe8h\\xb8\\xecE\\xe59\\xeb\\xb6\\x94BA\\xcf\\x1f\\xad\\x14R\\x15\\xc5\\xd8\\xdf\\xec\\xfeT\\xec8\\xfe\\xed\\x14Q`\\xb9'}, {'_': 'PhotoSize', 'type': 'm', 'w': 226, 'h': 320, 'size': 12793}], 'video_thumbs': []}, 'ttl_seconds': None}\n",
      "{'_': 'MessageMediaDocument', 'nopremium': False, 'document': {'_': 'Document', 'id': 6314540882280318819, 'access_hash': 599396996979097287, 'file_reference': b'\\x03\\x00\\x00\\x00\\x80cs\\xf4\\x07\\x8c\\xed\\xac\\xad\\xde\\xef4\\xdf\\xd3\\xe3\\x0e\\xeb\\xfe\\xb6\\xb2L', 'date': datetime.datetime(2022, 11, 15, 20, 11, 30, tzinfo=datetime.timezone.utc), 'mime_type': 'video/mp4', 'size': 1214138, 'dc_id': 5, 'attributes': [{'_': 'DocumentAttributeVideo', 'duration': 9, 'w': 358, 'h': 640, 'round_message': False, 'supports_streaming': True}], 'thumbs': [{'_': 'PhotoStrippedSize', 'type': 'i', 'bytes': b'\\x01(\\x16\\xca\\xa34\\xa0\\xa7\\xf7I\\xfcjA\\x0c\\xac\\xb9X\\x88\\x1e\\xb8\\xa2\\xc4\\x91f\\x8a\\xb2\\xb63\\xbb`\\x80\\x0e3\\xf3\\x1a(\\x1d\\x8b\\x90 {p\\xc80H\\x18#\\x8ei\\xf2\\x96\\x12\\x88\\xd9\\xf2\\x08\\x04\\x01T\\xedo\\x1e8\\x0cA\\x19\\xba\\xe0\\nk^8\\x90:\\x9d\\xac\\x062NiX\\xab\\xa3JeEpc;x\\xf54V;\\\\\\xbb\\x1eX\\xd1LW#bG\\x1b\\x8e>\\xb4\\xd1E\\x14\\x08(\\xa2\\x8aC?'}, {'_': 'PhotoSize', 'type': 'm', 'w': 179, 'h': 320, 'size': 10464}], 'video_thumbs': []}, 'ttl_seconds': None}\n",
      "{'_': 'MessageMediaPhoto', 'photo': {'_': 'Photo', 'id': 6314540882736558235, 'access_hash': 3491366554240840504, 'file_reference': b\"\\x03\\x00\\x00\\x00\\x7fcs\\xf4\\x07[\\xfdC\\xbf\\xec\\xaf\\x1c\\xc4\\xe3w\\x96\\x81\\xc4'\\xcdJ\", 'date': datetime.datetime(2022, 11, 15, 20, 10, 46, tzinfo=datetime.timezone.utc), 'sizes': [{'_': 'PhotoStrippedSize', 'type': 'i', 'bytes': b\"\\x01(\\x17\\xa7q\\x00\\x80\\x85\\xdcY\\xb1\\x96\\xe3\\xa5D\\x01=\\x8f\\xe5Z\\x16\\x905\\xe4,\\xef'%\\xf9\\xe3\\xbe*\\xc0\\xd3\\xb1\\xff\\x00-?\\xf1\\xdf\\xfe\\xbdZj\\xc0e\\x08\\xd8\\x83\\x808\\xf58\\xa2\\xb5\\x1a\\xc0\\xe3\\xfd`\\xff\\x00\\xbe?\\xfa\\xf4Qt\\x04z9\\x1eK\\x83\\xd9\\xb8\\xfc\\xabK V\\x1a\\xdeyp\\xaf\\x97\\x81'\\x01\\x81\\x1c\\x1ct4\\x9f\\xda7\\x07\\xba\\xfeU l\\xcd T&\\x8a\\xc4k\\xc9\\xd8`\\x95?\\x85\\x14X\\n\\xe4R\\x81E\\x14\\x0cp\\x14QE\\x00\\x7f\"}, {'_': 'PhotoSize', 'type': 'm', 'w': 181, 'h': 320, 'size': 9217}, {'_': 'PhotoSize', 'type': 'x', 'w': 452, 'h': 800, 'size': 38154}, {'_': 'PhotoSize', 'type': 'y', 'w': 724, 'h': 1280, 'size': 57236}], 'dc_id': 5, 'has_stickers': False, 'video_sizes': []}, 'ttl_seconds': None}\n",
      "{'_': 'MessageMediaWebPage', 'webpage': {'_': 'WebPage', 'id': 9170793121344422986, 'url': 'https://t.me/Loot_Dealsx', 'display_url': 't.me/Loot_Dealsx', 'hash': 0, 'type': 'telegram_channel', 'site_name': 'Telegram', 'title': 'Trending Loot Deals', 'description': \"Join India's Best Free & Fastest Loot Deals & Offers Broadcast Service & Enjoy Saving ♥️🙏\\n\\nBest Telegram Channel For Loots & Deals. 🙂\\n\\nAbout Us : bit.ly/AbouT_Us\\nChannel Link : bit.ly/TldTG\\nAffiliate Disclosure : bit.ly/AffDisc\\n\\nAdmin : @SauravX3\", 'photo': {'_': 'Photo', 'id': 6055561931110066828, 'access_hash': 775634754572877791, 'file_reference': b'\\x00cs\\xf4\\x07aCg\\xe7\\x16V:/\\xea#\\xcf\\xb7\\xa8\\x10\\x91\\x1e', 'date': datetime.datetime(2020, 10, 10, 4, 29, 15, tzinfo=datetime.timezone.utc), 'sizes': [{'_': 'PhotoSize', 'type': 'a', 'w': 160, 'h': 160, 'size': 4459}, {'_': 'PhotoSize', 'type': 'b', 'w': 320, 'h': 320, 'size': 10865}, {'_': 'PhotoSize', 'type': 'c', 'w': 640, 'h': 640, 'size': 27884}, {'_': 'PhotoStrippedSize', 'type': 'i', 'bytes': b'\\x01((\\xd9\\xa2\\x8a(\\x00\\xa2\\x8aM\\xc0\\x1cdg\\xd2\\x80\\x16\\x8a2\\x01\\x03\\xd6\\x8a\\x00\\x89\\xd8\\xa1\\x19f \\x83\\xd0S>\\xd0\\xf9\\xc8\\x8d\\xb1\\x8e\\xfcsV1\\xcei\\n\\x86\\x18 \\x1f\\xad\\x03\\xba \\xcc\\x8c\\x9bQ~\\xf6I=1Od!\\x81P\\x08#\\x075(\\x18\\x18\\x14P\\x17\"\\x10\\xb6AiX\\xe3\\xa7J*Z(\\x0b\\x85\\x14Q@\\x82\\x8a(\\xa0\\x02\\x8a(\\xa0\\x0f'}], 'dc_id': 5, 'has_stickers': False, 'video_sizes': []}, 'embed_url': None, 'embed_type': None, 'embed_width': None, 'embed_height': None, 'duration': None, 'author': None, 'document': None, 'cached_page': None, 'attributes': []}}\n"
     ]
    }
   ],
   "source": [
    "# msg=await d.get_chat_history('-1233533795', offset_id=0, reverse=True)\n",
    "\n",
    "async for d in client.iter_messages('iamadhee', reverse=False,):\n",
    "    print(d.media.to_dict())"
   ]
  },
  {
   "cell_type": "code",
   "execution_count": null,
   "metadata": {},
   "outputs": [],
   "source": [
    "#-1233533795"
   ]
  }
 ],
 "metadata": {
  "kernelspec": {
   "display_name": "Python 3.7.4 64-bit",
   "language": "python",
   "name": "python3"
  },
  "language_info": {
   "codemirror_mode": {
    "name": "ipython",
    "version": 3
   },
   "file_extension": ".py",
   "mimetype": "text/x-python",
   "name": "python",
   "nbconvert_exporter": "python",
   "pygments_lexer": "ipython3",
   "version": "3.7.4"
  },
  "orig_nbformat": 4,
  "vscode": {
   "interpreter": {
    "hash": "438185bf9a8a56399d3ff751e1d3ab3dbaf813080051bd5941e2228461f0f34f"
   }
  }
 },
 "nbformat": 4,
 "nbformat_minor": 2
}
