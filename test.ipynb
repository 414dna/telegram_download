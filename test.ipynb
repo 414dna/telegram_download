{
    "cells": [{
            "cell_type": "code",
            "execution_count": 41,
            "metadata": {},
            "outputs": [{
                "name": "stdout",
                "output_type": "stream",
                "text": [
                    "Signed in successfully as R Dhilip\n"
                ]
            }],
            "source": [
                "from telethon import TelegramClient\n",
                "\n",
                "api_id=25828699\n",
                "api_hash='eea3a6141d6966d45c7475603a8b6739'\n",
                "client = TelegramClient('media_download5', api_id, api_hash)\n",
                "await client.connect()\n",
                "d= await client.start(phone=,passwordn",
                "\n",
                "\n",
                "\n",
                "\n"
            ]
        },
        {
            "cell_type": "code",
            "execution_count": 56,
            "metadata": {},
            "outputs": [],
            "source": [
                "from telethon.utils import get_extension\n",
                "import os\n",
                "import pandas as pd\n",
                "from  sqlalchemy import create_engine\n",
                "\n",
                "\n",
                "\n"
            ]
        },
        {
            "cell_type": "code",
            "execution_count": 45,
            "metadata": {},
            "outputs": [{
                "data": {
                    "text/plain": [
                        "True"
                    ]
                },
                "execution_count": 45,
                "metadata": {},
                "output_type": "execute_result"
            }],
            "source": [
                "client.is_connected()"
            ]
        },
        {
            "cell_type": "code",
            "execution_count": 76,
            "metadata": {},
            "outputs": [{
                "data": {
                    "text/plain": [
                        "'c:\\\\Users\\\\dhilip work\\\\Desktop\\\\scrap'"
                    ]
                },
                "execution_count": 76,
                "metadata": {},
                "output_type": "execute_result"
            }],
            "source": [
                "async def put_db_entry(chat_id:int,msg_id:int,date:pd.to_datetime):\n",
                "    create_engine()\n",
                "    "
            ]
        },
        {
            "cell_type": "code",
            "execution_count": 78,
            "metadata": {},
            "outputs": [{
                "name": "stdout",
                "output_type": "stream",
                "text": [
                    "c:\\Users\\dhilip work\\Desktop\\scrap\\iamadhee\\Vennila Raghuraman Invitation.pdf\n",
                    "c:\\Users\\dhilip work\\Desktop\\scrap\\iamadhee\\document_2022-11-15_20-11-30.mp4\n",
                    "c:\\Users\\dhilip work\\Desktop\\scrap\\iamadhee\\photo_2022-11-15_20-10-47.jpg\n"
                ]
            }],
            "source": [
                "# msg=await d.get_chat_history('-1233533795', offset_id=0, reverse=True)\n",
                "alloweded_media_list=['.pdf','.mp4','.jpg']\n",
                "try:\n",
                "    os.makedirs(f'{os.getcwd()}\\\\iamadhee',exist_ok=True)\n",
                "    async for d in  client.iter_messages('iamadhee', reverse=False):\n",
                "        if d.media and get_extension (d.media) in alloweded_media_list:\n",
                "            if await d.download_media(file=f'{os.getcwd()}\\\\iamadhee'):\n",
                "                d=put_db_entry(chat_id=d.chat_id,msg_id=d.id,date=d.date,)\n",
                "except Exception as e:\n",
                "    print(e)\n",
                "        "
            ]
        },
        {
            "cell_type": "code",
            "execution_count": 93,
            "metadata": {},
            "outputs": [{
                "data": {
                    "text/plain": [
                        "91"
                    ]
                },
                "execution_count": 93,
                "metadata": {},
                "output_type": "execute_result"
            }],
            "source": [
                "d.id"
            ]
        },
        {
            "cell_type": "code",
            "execution_count": null,
            "metadata": {},
            "outputs": [],
            "source": []
        }
    ],
    "metadata": {
        "kernelspec": {
            "display_name": "Python 3.7.4 64-bit",
            "language": "python",
            "name": "python3"
        },
        "language_info": {
            "codemirror_mode": {
                "name": "ipython",
                "version": 3
            },
            "file_extension": ".py",
            "mimetype": "text/x-python",
            "name": "python",
            "nbconvert_exporter": "python",
            "pygments_lexer": "ipython3",
            "version": "3.7.4"
        },
        "orig_nbformat": 4,
        "vscode": {
            "interpreter": {
                "hash": "438185bf9a8a56399d3ff751e1d3ab3dbaf813080051bd5941e2228461f0f34f"
            }
        }
    },
    "nbformat": 4,
    "nbformat_minor": 2
}